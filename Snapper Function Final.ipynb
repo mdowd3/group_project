{
 "cells": [
  {
   "cell_type": "code",
   "execution_count": null,
   "id": "059136a8",
   "metadata": {},
   "outputs": [],
   "source": [
    "new_col= function (a, b){\n",
    "    a %>%\n",
    "    group_by(CaseAcc) %>%\n",
    "    subset(Measurement == b)\n",
    "}"
   ]
  },
  {
   "cell_type": "markdown",
   "id": "fe2db611",
   "metadata": {},
   "source": [
    "Input tibble name as a, input measurement name as b. Column for sample ID MUST be labeled CaseAcc, and column name for measurement name MUST be labeled Measurement"
   ]
  },
  {
   "cell_type": "code",
   "execution_count": null,
   "id": "043e311c",
   "metadata": {},
   "outputs": [],
   "source": [
    "new_col5= function (a, b, c, d){\n",
    "    a %>%\n",
    "    group_by(b) %>%\n",
    "    subset(c == d)\n",
    "}"
   ]
  },
  {
   "cell_type": "markdown",
   "id": "0ffa024d",
   "metadata": {},
   "source": [
    "Ideally, we want it to look like this so b and c can be inputed as column name, but getting error \"column 'c' is not found\""
   ]
  },
  {
   "cell_type": "code",
   "execution_count": null,
   "id": "48712d4e",
   "metadata": {},
   "outputs": [],
   "source": [
    "remove_extra = function (a, b){\n",
    "    a %>%\n",
    "    dplyr::select(-b)\n",
    "}"
   ]
  },
  {
   "cell_type": "markdown",
   "id": "70cb11c4",
   "metadata": {},
   "source": [
    "b should be in the form of `c(\"\",\"\")`"
   ]
  },
  {
   "cell_type": "code",
   "execution_count": null,
   "id": "25c2d4cd",
   "metadata": {},
   "outputs": [],
   "source": [
    "HSI = function (a){\n",
    "    a %>%\n",
    "    mutate(\n",
    "        HSI = ((Weight_liver_g/Weight_carcass_g)*100))\n",
    "}"
   ]
  },
  {
   "cell_type": "markdown",
   "id": "9fe07b92",
   "metadata": {},
   "source": [
    "Input tibble name as a. Column for sample weight liver be labeled Weight_liver_g, and column name for sample carcass weight MUST be Weight_carcass_g"
   ]
  },
  {
   "cell_type": "code",
   "execution_count": null,
   "id": "1316bc85",
   "metadata": {},
   "outputs": [],
   "source": [
    "HSI5 = function (a, b, c){\n",
    "    a %>%\n",
    "    mutate(\n",
    "        HSI = ((b/c)*100))\n",
    "}"
   ]
  },
  {
   "cell_type": "markdown",
   "id": "dfc85361",
   "metadata": {},
   "source": [
    "ideally want it to look like this where b is liver weight and c is carcass weight but same error as in new.col5"
   ]
  },
  {
   "cell_type": "code",
   "execution_count": null,
   "id": "dd2fa9da",
   "metadata": {},
   "outputs": [],
   "source": [
    "cond_fact_k = function (a){\n",
    "    a %>%\n",
    "    mutate(\n",
    "        Fulton_condition_factor = ((Weight_carcass_g*100)/(Total_length_cm^3)))\n",
    "}"
   ]
  },
  {
   "cell_type": "markdown",
   "id": "42e2f0a0",
   "metadata": {},
   "source": [
    "same issue as previous with column name error"
   ]
  },
  {
   "cell_type": "code",
   "execution_count": 1,
   "id": "8f5ffb30",
   "metadata": {},
   "outputs": [],
   "source": [
    "dateR = function (a,b){\n",
    "    a %>%\n",
    "    mutate(\n",
    "        DateR = as.POSIXct(DateCollected, format= b))\n",
    "}"
   ]
  },
  {
   "cell_type": "markdown",
   "id": "5f5a4f66",
   "metadata": {},
   "source": [
    "b should be in \"%m/%d/%Y\" format; date collected column MUST be named DateCollected"
   ]
  },
  {
   "cell_type": "code",
   "execution_count": null,
   "id": "edb18fe6",
   "metadata": {},
   "outputs": [],
   "source": [
    "sex_dbl = function (a){\n",
    "    a %>%\n",
    "    mutate(\n",
    "    Sex_dbl = as.double(Sex))\n",
    "}"
   ]
  },
  {
   "cell_type": "code",
   "execution_count": null,
   "id": "3fa0670a",
   "metadata": {},
   "outputs": [],
   "source": [
    "age_dbl = function (a){\n",
    "    a %>%\n",
    "    mutate(\n",
    "    Age_dbl = as.double(Age))\n",
    "}"
   ]
  },
  {
   "cell_type": "code",
   "execution_count": null,
   "id": "a7792334",
   "metadata": {},
   "outputs": [],
   "source": [
    "waypoint_dbl = function (a){\n",
    "    a %>%\n",
    "    mutate(\n",
    "    Waypoint_dbl = as.double(waypoint))\n",
    "}"
   ]
  },
  {
   "cell_type": "code",
   "execution_count": null,
   "id": "5b9b8c49",
   "metadata": {},
   "outputs": [],
   "source": []
  }
 ],
 "metadata": {
  "kernelspec": {
   "display_name": "R",
   "language": "R",
   "name": "ir"
  },
  "language_info": {
   "codemirror_mode": "r",
   "file_extension": ".r",
   "mimetype": "text/x-r-source",
   "name": "R",
   "pygments_lexer": "r",
   "version": "3.6.1"
  }
 },
 "nbformat": 4,
 "nbformat_minor": 5
}
