{
 "cells": [
  {
   "cell_type": "code",
   "execution_count": 1,
   "id": "15a33f30",
   "metadata": {},
   "outputs": [
    {
     "name": "stderr",
     "output_type": "stream",
     "text": [
      "── Attaching packages ─────────────────────────────────────── tidyverse 1.3.1 ──\n",
      "✔ ggplot2 3.3.5     ✔ purrr   0.3.4\n",
      "✔ tibble  3.1.4     ✔ dplyr   1.0.7\n",
      "✔ tidyr   1.1.3     ✔ stringr 1.4.0\n",
      "✔ readr   2.0.1     ✔ forcats 0.5.1\n",
      "── Conflicts ────────────────────────────────────────── tidyverse_conflicts() ──\n",
      "✖ dplyr::filter() masks stats::filter()\n",
      "✖ dplyr::lag()    masks stats::lag()\n",
      "\n",
      "Attaching package: ‘lubridate’\n",
      "\n",
      "The following objects are masked from ‘package:base’:\n",
      "\n",
      "    date, intersect, setdiff, union\n",
      "\n",
      "\n",
      "Attaching package: ‘MASS’\n",
      "\n",
      "The following object is masked from ‘package:dplyr’:\n",
      "\n",
      "    select\n",
      "\n"
     ]
    }
   ],
   "source": [
    "library(tidyverse)\n",
    "library(lubridate)\n",
    "library(MASS)"
   ]
  },
  {
   "cell_type": "code",
   "execution_count": 2,
   "id": "f053f295",
   "metadata": {},
   "outputs": [
    {
     "data": {
      "text/html": [
       "<table>\n",
       "<thead><tr><th scope=col>CaseAcc</th><th scope=col>Animal</th><th scope=col>DateCollected</th><th scope=col>Age</th><th scope=col>Sex</th><th scope=col>waypoint</th><th scope=col>Measurement</th><th scope=col>MeasureValue</th><th scope=col>MeasurementUnit</th></tr></thead>\n",
       "<tbody>\n",
       "\t<tr><td>25174-21            </td><td>Snapper: Bluestriped</td><td>3/16/15             </td><td>Adult               </td><td>Male                </td><td>Barbers Point FR1B  </td><td>Fork length         </td><td> 22.500             </td><td>cm                  </td></tr>\n",
       "\t<tr><td>25174-21            </td><td>Snapper: Bluestriped</td><td>3/16/15             </td><td>Adult               </td><td>Male                </td><td>Barbers Point FR1B  </td><td>Total length        </td><td> 23.900             </td><td>cm                  </td></tr>\n",
       "\t<tr><td>25174-21            </td><td>Snapper: Bluestriped</td><td>3/16/15             </td><td>Adult               </td><td>Male                </td><td>Barbers Point FR1B  </td><td>Weight carcass      </td><td>201.100             </td><td>g                   </td></tr>\n",
       "\t<tr><td>25174-21            </td><td>Snapper: Bluestriped</td><td>3/16/15             </td><td>Adult               </td><td>Male                </td><td>Barbers Point FR1B  </td><td>Weight liver        </td><td>  1.489             </td><td>g                   </td></tr>\n",
       "\t<tr><td>25174-27            </td><td>Snapper: Bluestriped</td><td>3/16/15             </td><td>Adult               </td><td>Female              </td><td>Barbers Point FR1B  </td><td>Fork length         </td><td> 21.600             </td><td>cm                  </td></tr>\n",
       "\t<tr><td>25174-27            </td><td>Snapper: Bluestriped</td><td>3/16/15             </td><td>Adult               </td><td>Female              </td><td>Barbers Point FR1B  </td><td>Total length        </td><td> 22.800             </td><td>cm                  </td></tr>\n",
       "</tbody>\n",
       "</table>\n"
      ],
      "text/latex": [
       "\\begin{tabular}{r|lllllllll}\n",
       " CaseAcc & Animal & DateCollected & Age & Sex & waypoint & Measurement & MeasureValue & MeasurementUnit\\\\\n",
       "\\hline\n",
       "\t 25174-21             & Snapper: Bluestriped & 3/16/15              & Adult                & Male                 & Barbers Point FR1B   & Fork length          &  22.500              & cm                  \\\\\n",
       "\t 25174-21             & Snapper: Bluestriped & 3/16/15              & Adult                & Male                 & Barbers Point FR1B   & Total length         &  23.900              & cm                  \\\\\n",
       "\t 25174-21             & Snapper: Bluestriped & 3/16/15              & Adult                & Male                 & Barbers Point FR1B   & Weight carcass       & 201.100              & g                   \\\\\n",
       "\t 25174-21             & Snapper: Bluestriped & 3/16/15              & Adult                & Male                 & Barbers Point FR1B   & Weight liver         &   1.489              & g                   \\\\\n",
       "\t 25174-27             & Snapper: Bluestriped & 3/16/15              & Adult                & Female               & Barbers Point FR1B   & Fork length          &  21.600              & cm                  \\\\\n",
       "\t 25174-27             & Snapper: Bluestriped & 3/16/15              & Adult                & Female               & Barbers Point FR1B   & Total length         &  22.800              & cm                  \\\\\n",
       "\\end{tabular}\n"
      ],
      "text/markdown": [
       "\n",
       "| CaseAcc | Animal | DateCollected | Age | Sex | waypoint | Measurement | MeasureValue | MeasurementUnit |\n",
       "|---|---|---|---|---|---|---|---|---|\n",
       "| 25174-21             | Snapper: Bluestriped | 3/16/15              | Adult                | Male                 | Barbers Point FR1B   | Fork length          |  22.500              | cm                   |\n",
       "| 25174-21             | Snapper: Bluestriped | 3/16/15              | Adult                | Male                 | Barbers Point FR1B   | Total length         |  23.900              | cm                   |\n",
       "| 25174-21             | Snapper: Bluestriped | 3/16/15              | Adult                | Male                 | Barbers Point FR1B   | Weight carcass       | 201.100              | g                    |\n",
       "| 25174-21             | Snapper: Bluestriped | 3/16/15              | Adult                | Male                 | Barbers Point FR1B   | Weight liver         |   1.489              | g                    |\n",
       "| 25174-27             | Snapper: Bluestriped | 3/16/15              | Adult                | Female               | Barbers Point FR1B   | Fork length          |  21.600              | cm                   |\n",
       "| 25174-27             | Snapper: Bluestriped | 3/16/15              | Adult                | Female               | Barbers Point FR1B   | Total length         |  22.800              | cm                   |\n",
       "\n"
      ],
      "text/plain": [
       "  CaseAcc  Animal               DateCollected Age   Sex    waypoint          \n",
       "1 25174-21 Snapper: Bluestriped 3/16/15       Adult Male   Barbers Point FR1B\n",
       "2 25174-21 Snapper: Bluestriped 3/16/15       Adult Male   Barbers Point FR1B\n",
       "3 25174-21 Snapper: Bluestriped 3/16/15       Adult Male   Barbers Point FR1B\n",
       "4 25174-21 Snapper: Bluestriped 3/16/15       Adult Male   Barbers Point FR1B\n",
       "5 25174-27 Snapper: Bluestriped 3/16/15       Adult Female Barbers Point FR1B\n",
       "6 25174-27 Snapper: Bluestriped 3/16/15       Adult Female Barbers Point FR1B\n",
       "  Measurement    MeasureValue MeasurementUnit\n",
       "1 Fork length     22.500      cm             \n",
       "2 Total length    23.900      cm             \n",
       "3 Weight carcass 201.100      g              \n",
       "4 Weight liver     1.489      g              \n",
       "5 Fork length     21.600      cm             \n",
       "6 Total length    22.800      cm             "
      ]
     },
     "metadata": {},
     "output_type": "display_data"
    }
   ],
   "source": [
    "snapper=read.csv(\"data/Fish_Data_Snapper.csv\")\n",
    "head(snapper)"
   ]
  },
  {
   "cell_type": "code",
   "execution_count": 3,
   "id": "33e30f0d",
   "metadata": {},
   "outputs": [],
   "source": [
    "subset_by_col_value = function(df_name, col_name, col_val){\n",
    "    df_name %>%\n",
    "    filter({{col_name}} == col_val)\n",
    "}"
   ]
  },
  {
   "cell_type": "code",
   "execution_count": 4,
   "id": "9863479e",
   "metadata": {},
   "outputs": [
    {
     "data": {
      "text/html": [
       "<table>\n",
       "<thead><tr><th scope=col>CaseAcc</th><th scope=col>Animal</th><th scope=col>DateCollected</th><th scope=col>Age</th><th scope=col>Sex</th><th scope=col>waypoint</th><th scope=col>Measurement</th><th scope=col>MeasureValue</th><th scope=col>MeasurementUnit</th></tr></thead>\n",
       "<tbody>\n",
       "\t<tr><td>25174-21            </td><td>Snapper: Bluestriped</td><td>3/16/15             </td><td>Adult               </td><td>Male                </td><td>Barbers Point FR1B  </td><td>Fork length         </td><td>22.5                </td><td>cm                  </td></tr>\n",
       "\t<tr><td>25174-27            </td><td>Snapper: Bluestriped</td><td>3/16/15             </td><td>Adult               </td><td>Female              </td><td>Barbers Point FR1B  </td><td>Fork length         </td><td>21.6                </td><td>cm                  </td></tr>\n",
       "\t<tr><td>25174-28            </td><td>Snapper: Bluestriped</td><td>3/16/15             </td><td>Adult               </td><td>Male                </td><td>Barbers Point FR1B  </td><td>Fork length         </td><td>24.7                </td><td>cm                  </td></tr>\n",
       "\t<tr><td>25174-30            </td><td>Snapper: Bluestriped</td><td>3/16/15             </td><td>Adult               </td><td>Male                </td><td>Barbers Point FR1B  </td><td>Fork length         </td><td>22.0                </td><td>cm                  </td></tr>\n",
       "\t<tr><td>25174-26            </td><td>Snapper: Bluestriped</td><td>3/16/15             </td><td>Adult               </td><td>Male                </td><td>Barbers Point FR1B  </td><td>Fork length         </td><td>20.7                </td><td>cm                  </td></tr>\n",
       "\t<tr><td>25174-25            </td><td>Snapper: Bluestriped</td><td>3/16/15             </td><td>Adult               </td><td>Male                </td><td>Barbers Point FR1B  </td><td>Fork length         </td><td>22.0                </td><td>cm                  </td></tr>\n",
       "</tbody>\n",
       "</table>\n"
      ],
      "text/latex": [
       "\\begin{tabular}{r|lllllllll}\n",
       " CaseAcc & Animal & DateCollected & Age & Sex & waypoint & Measurement & MeasureValue & MeasurementUnit\\\\\n",
       "\\hline\n",
       "\t 25174-21             & Snapper: Bluestriped & 3/16/15              & Adult                & Male                 & Barbers Point FR1B   & Fork length          & 22.5                 & cm                  \\\\\n",
       "\t 25174-27             & Snapper: Bluestriped & 3/16/15              & Adult                & Female               & Barbers Point FR1B   & Fork length          & 21.6                 & cm                  \\\\\n",
       "\t 25174-28             & Snapper: Bluestriped & 3/16/15              & Adult                & Male                 & Barbers Point FR1B   & Fork length          & 24.7                 & cm                  \\\\\n",
       "\t 25174-30             & Snapper: Bluestriped & 3/16/15              & Adult                & Male                 & Barbers Point FR1B   & Fork length          & 22.0                 & cm                  \\\\\n",
       "\t 25174-26             & Snapper: Bluestriped & 3/16/15              & Adult                & Male                 & Barbers Point FR1B   & Fork length          & 20.7                 & cm                  \\\\\n",
       "\t 25174-25             & Snapper: Bluestriped & 3/16/15              & Adult                & Male                 & Barbers Point FR1B   & Fork length          & 22.0                 & cm                  \\\\\n",
       "\\end{tabular}\n"
      ],
      "text/markdown": [
       "\n",
       "| CaseAcc | Animal | DateCollected | Age | Sex | waypoint | Measurement | MeasureValue | MeasurementUnit |\n",
       "|---|---|---|---|---|---|---|---|---|\n",
       "| 25174-21             | Snapper: Bluestriped | 3/16/15              | Adult                | Male                 | Barbers Point FR1B   | Fork length          | 22.5                 | cm                   |\n",
       "| 25174-27             | Snapper: Bluestriped | 3/16/15              | Adult                | Female               | Barbers Point FR1B   | Fork length          | 21.6                 | cm                   |\n",
       "| 25174-28             | Snapper: Bluestriped | 3/16/15              | Adult                | Male                 | Barbers Point FR1B   | Fork length          | 24.7                 | cm                   |\n",
       "| 25174-30             | Snapper: Bluestriped | 3/16/15              | Adult                | Male                 | Barbers Point FR1B   | Fork length          | 22.0                 | cm                   |\n",
       "| 25174-26             | Snapper: Bluestriped | 3/16/15              | Adult                | Male                 | Barbers Point FR1B   | Fork length          | 20.7                 | cm                   |\n",
       "| 25174-25             | Snapper: Bluestriped | 3/16/15              | Adult                | Male                 | Barbers Point FR1B   | Fork length          | 22.0                 | cm                   |\n",
       "\n"
      ],
      "text/plain": [
       "  CaseAcc  Animal               DateCollected Age   Sex    waypoint          \n",
       "1 25174-21 Snapper: Bluestriped 3/16/15       Adult Male   Barbers Point FR1B\n",
       "2 25174-27 Snapper: Bluestriped 3/16/15       Adult Female Barbers Point FR1B\n",
       "3 25174-28 Snapper: Bluestriped 3/16/15       Adult Male   Barbers Point FR1B\n",
       "4 25174-30 Snapper: Bluestriped 3/16/15       Adult Male   Barbers Point FR1B\n",
       "5 25174-26 Snapper: Bluestriped 3/16/15       Adult Male   Barbers Point FR1B\n",
       "6 25174-25 Snapper: Bluestriped 3/16/15       Adult Male   Barbers Point FR1B\n",
       "  Measurement MeasureValue MeasurementUnit\n",
       "1 Fork length 22.5         cm             \n",
       "2 Fork length 21.6         cm             \n",
       "3 Fork length 24.7         cm             \n",
       "4 Fork length 22.0         cm             \n",
       "5 Fork length 20.7         cm             \n",
       "6 Fork length 22.0         cm             "
      ]
     },
     "metadata": {},
     "output_type": "display_data"
    }
   ],
   "source": [
    "Fork_length_cm = subset_by_col_value(snapper, Measurement, 'Fork length')\n",
    "head(Fork_length_cm)"
   ]
  },
  {
   "cell_type": "code",
   "execution_count": 9,
   "id": "6a0efda0",
   "metadata": {},
   "outputs": [],
   "source": [
    "Total_length_cm = subset_by_col_value(snapper, Measurement, 'Total length')\n",
    "Carcass_weight_g = subset_by_col_value(snapper, Measurement, 'Weight carcass')\n",
    "Liver_weight_g = subset_by_col_value(snapper, Measurement, 'Weight liver')"
   ]
  },
  {
   "cell_type": "code",
   "execution_count": 70,
   "id": "e9b24f4e",
   "metadata": {},
   "outputs": [],
   "source": [
    "keep_col = function (df_name, col_name){\n",
    "    df_name %>%\n",
    "    dplyr::select({{col_name}})\n",
    "}"
   ]
  },
  {
   "cell_type": "code",
   "execution_count": 28,
   "id": "137a10dd",
   "metadata": {},
   "outputs": [],
   "source": [
    "remove_col = function (df_name, col_name){\n",
    "    df_name %>%\n",
    "    dplyr::select(-{{col_name}})\n",
    "}"
   ]
  },
  {
   "cell_type": "code",
   "execution_count": 68,
   "id": "6695be3b",
   "metadata": {},
   "outputs": [],
   "source": [
    "Fork_length_cm2 = remove_col(Fork_length_cm, col_name = c(\"Measurement\", \"MeasurementUnit\"))\n",
    "Total_length_cm2 = remove_col(Total_length_cm, col_name = c(\"Measurement\", \"MeasurementUnit\"))\n",
    "Carcass_weight_g2 = remove_col(Carcass_weight_g, col_name = c(\"Measurement\", \"MeasurementUnit\"))\n",
    "Liver_weight_g2 = remove_col(Liver_weight_g, col_name = c(\"Measurement\", \"MeasurementUnit\"))"
   ]
  },
  {
   "cell_type": "code",
   "execution_count": 69,
   "id": "52596cc4",
   "metadata": {},
   "outputs": [
    {
     "data": {
      "text/html": [
       "<table>\n",
       "<thead><tr><th scope=col>CaseAcc</th><th scope=col>Animal</th><th scope=col>DateCollected</th><th scope=col>Age</th><th scope=col>Sex</th><th scope=col>waypoint</th><th scope=col>MeasureValue</th></tr></thead>\n",
       "<tbody>\n",
       "\t<tr><td>25174-21            </td><td>Snapper: Bluestriped</td><td>3/16/15             </td><td>Adult               </td><td>Male                </td><td>Barbers Point FR1B  </td><td>22.5                </td></tr>\n",
       "\t<tr><td>25174-27            </td><td>Snapper: Bluestriped</td><td>3/16/15             </td><td>Adult               </td><td>Female              </td><td>Barbers Point FR1B  </td><td>21.6                </td></tr>\n",
       "\t<tr><td>25174-28            </td><td>Snapper: Bluestriped</td><td>3/16/15             </td><td>Adult               </td><td>Male                </td><td>Barbers Point FR1B  </td><td>24.7                </td></tr>\n",
       "\t<tr><td>25174-30            </td><td>Snapper: Bluestriped</td><td>3/16/15             </td><td>Adult               </td><td>Male                </td><td>Barbers Point FR1B  </td><td>22.0                </td></tr>\n",
       "\t<tr><td>25174-26            </td><td>Snapper: Bluestriped</td><td>3/16/15             </td><td>Adult               </td><td>Male                </td><td>Barbers Point FR1B  </td><td>20.7                </td></tr>\n",
       "\t<tr><td>25174-25            </td><td>Snapper: Bluestriped</td><td>3/16/15             </td><td>Adult               </td><td>Male                </td><td>Barbers Point FR1B  </td><td>22.0                </td></tr>\n",
       "</tbody>\n",
       "</table>\n"
      ],
      "text/latex": [
       "\\begin{tabular}{r|lllllll}\n",
       " CaseAcc & Animal & DateCollected & Age & Sex & waypoint & MeasureValue\\\\\n",
       "\\hline\n",
       "\t 25174-21             & Snapper: Bluestriped & 3/16/15              & Adult                & Male                 & Barbers Point FR1B   & 22.5                \\\\\n",
       "\t 25174-27             & Snapper: Bluestriped & 3/16/15              & Adult                & Female               & Barbers Point FR1B   & 21.6                \\\\\n",
       "\t 25174-28             & Snapper: Bluestriped & 3/16/15              & Adult                & Male                 & Barbers Point FR1B   & 24.7                \\\\\n",
       "\t 25174-30             & Snapper: Bluestriped & 3/16/15              & Adult                & Male                 & Barbers Point FR1B   & 22.0                \\\\\n",
       "\t 25174-26             & Snapper: Bluestriped & 3/16/15              & Adult                & Male                 & Barbers Point FR1B   & 20.7                \\\\\n",
       "\t 25174-25             & Snapper: Bluestriped & 3/16/15              & Adult                & Male                 & Barbers Point FR1B   & 22.0                \\\\\n",
       "\\end{tabular}\n"
      ],
      "text/markdown": [
       "\n",
       "| CaseAcc | Animal | DateCollected | Age | Sex | waypoint | MeasureValue |\n",
       "|---|---|---|---|---|---|---|\n",
       "| 25174-21             | Snapper: Bluestriped | 3/16/15              | Adult                | Male                 | Barbers Point FR1B   | 22.5                 |\n",
       "| 25174-27             | Snapper: Bluestriped | 3/16/15              | Adult                | Female               | Barbers Point FR1B   | 21.6                 |\n",
       "| 25174-28             | Snapper: Bluestriped | 3/16/15              | Adult                | Male                 | Barbers Point FR1B   | 24.7                 |\n",
       "| 25174-30             | Snapper: Bluestriped | 3/16/15              | Adult                | Male                 | Barbers Point FR1B   | 22.0                 |\n",
       "| 25174-26             | Snapper: Bluestriped | 3/16/15              | Adult                | Male                 | Barbers Point FR1B   | 20.7                 |\n",
       "| 25174-25             | Snapper: Bluestriped | 3/16/15              | Adult                | Male                 | Barbers Point FR1B   | 22.0                 |\n",
       "\n"
      ],
      "text/plain": [
       "  CaseAcc  Animal               DateCollected Age   Sex    waypoint          \n",
       "1 25174-21 Snapper: Bluestriped 3/16/15       Adult Male   Barbers Point FR1B\n",
       "2 25174-27 Snapper: Bluestriped 3/16/15       Adult Female Barbers Point FR1B\n",
       "3 25174-28 Snapper: Bluestriped 3/16/15       Adult Male   Barbers Point FR1B\n",
       "4 25174-30 Snapper: Bluestriped 3/16/15       Adult Male   Barbers Point FR1B\n",
       "5 25174-26 Snapper: Bluestriped 3/16/15       Adult Male   Barbers Point FR1B\n",
       "6 25174-25 Snapper: Bluestriped 3/16/15       Adult Male   Barbers Point FR1B\n",
       "  MeasureValue\n",
       "1 22.5        \n",
       "2 21.6        \n",
       "3 24.7        \n",
       "4 22.0        \n",
       "5 20.7        \n",
       "6 22.0        "
      ]
     },
     "metadata": {},
     "output_type": "display_data"
    }
   ],
   "source": [
    "head(Fork_length_cm2)"
   ]
  },
  {
   "cell_type": "code",
   "execution_count": 53,
   "id": "37194ce8",
   "metadata": {},
   "outputs": [
    {
     "ename": "ERROR",
     "evalue": "Error in parse(text = x, srcfile = src): <text>:3:29:  予想外の '=' です \n2:     df_name %>%\n3:     rename({{new_col_name}} =\n                               ^\n",
     "output_type": "error",
     "traceback": [
      "Error in parse(text = x, srcfile = src): <text>:3:29:  予想外の '=' です \n2:     df_name %>%\n3:     rename({{new_col_name}} =\n                               ^\nTraceback:\n"
     ]
    }
   ],
   "source": [
    "rename_col = function(df_name, old_col_name, new_col_name){\n",
    "    df_name %>%\n",
    "    rename({{new_col_name}} = {{old_col_name}})\n",
    "}"
   ]
  },
  {
   "cell_type": "code",
   "execution_count": 54,
   "id": "33df39dc",
   "metadata": {},
   "outputs": [
    {
     "data": {
      "text/html": [
       "<table>\n",
       "<thead><tr><th scope=col>CaseAcc</th><th scope=col>Animal</th><th scope=col>DateCollected</th><th scope=col>Age</th><th scope=col>Sex</th><th scope=col>waypoint</th><th scope=col>Fork_length_cm</th></tr></thead>\n",
       "<tbody>\n",
       "\t<tr><td>25174-21            </td><td>Snapper: Bluestriped</td><td>3/16/15             </td><td>Adult               </td><td>Male                </td><td>Barbers Point FR1B  </td><td>22.5                </td></tr>\n",
       "\t<tr><td>25174-27            </td><td>Snapper: Bluestriped</td><td>3/16/15             </td><td>Adult               </td><td>Female              </td><td>Barbers Point FR1B  </td><td>21.6                </td></tr>\n",
       "\t<tr><td>25174-28            </td><td>Snapper: Bluestriped</td><td>3/16/15             </td><td>Adult               </td><td>Male                </td><td>Barbers Point FR1B  </td><td>24.7                </td></tr>\n",
       "\t<tr><td>25174-30            </td><td>Snapper: Bluestriped</td><td>3/16/15             </td><td>Adult               </td><td>Male                </td><td>Barbers Point FR1B  </td><td>22.0                </td></tr>\n",
       "\t<tr><td>25174-26            </td><td>Snapper: Bluestriped</td><td>3/16/15             </td><td>Adult               </td><td>Male                </td><td>Barbers Point FR1B  </td><td>20.7                </td></tr>\n",
       "\t<tr><td>25174-25            </td><td>Snapper: Bluestriped</td><td>3/16/15             </td><td>Adult               </td><td>Male                </td><td>Barbers Point FR1B  </td><td>22.0                </td></tr>\n",
       "</tbody>\n",
       "</table>\n"
      ],
      "text/latex": [
       "\\begin{tabular}{r|lllllll}\n",
       " CaseAcc & Animal & DateCollected & Age & Sex & waypoint & Fork\\_length\\_cm\\\\\n",
       "\\hline\n",
       "\t 25174-21             & Snapper: Bluestriped & 3/16/15              & Adult                & Male                 & Barbers Point FR1B   & 22.5                \\\\\n",
       "\t 25174-27             & Snapper: Bluestriped & 3/16/15              & Adult                & Female               & Barbers Point FR1B   & 21.6                \\\\\n",
       "\t 25174-28             & Snapper: Bluestriped & 3/16/15              & Adult                & Male                 & Barbers Point FR1B   & 24.7                \\\\\n",
       "\t 25174-30             & Snapper: Bluestriped & 3/16/15              & Adult                & Male                 & Barbers Point FR1B   & 22.0                \\\\\n",
       "\t 25174-26             & Snapper: Bluestriped & 3/16/15              & Adult                & Male                 & Barbers Point FR1B   & 20.7                \\\\\n",
       "\t 25174-25             & Snapper: Bluestriped & 3/16/15              & Adult                & Male                 & Barbers Point FR1B   & 22.0                \\\\\n",
       "\\end{tabular}\n"
      ],
      "text/markdown": [
       "\n",
       "| CaseAcc | Animal | DateCollected | Age | Sex | waypoint | Fork_length_cm |\n",
       "|---|---|---|---|---|---|---|\n",
       "| 25174-21             | Snapper: Bluestriped | 3/16/15              | Adult                | Male                 | Barbers Point FR1B   | 22.5                 |\n",
       "| 25174-27             | Snapper: Bluestriped | 3/16/15              | Adult                | Female               | Barbers Point FR1B   | 21.6                 |\n",
       "| 25174-28             | Snapper: Bluestriped | 3/16/15              | Adult                | Male                 | Barbers Point FR1B   | 24.7                 |\n",
       "| 25174-30             | Snapper: Bluestriped | 3/16/15              | Adult                | Male                 | Barbers Point FR1B   | 22.0                 |\n",
       "| 25174-26             | Snapper: Bluestriped | 3/16/15              | Adult                | Male                 | Barbers Point FR1B   | 20.7                 |\n",
       "| 25174-25             | Snapper: Bluestriped | 3/16/15              | Adult                | Male                 | Barbers Point FR1B   | 22.0                 |\n",
       "\n"
      ],
      "text/plain": [
       "  CaseAcc  Animal               DateCollected Age   Sex    waypoint          \n",
       "1 25174-21 Snapper: Bluestriped 3/16/15       Adult Male   Barbers Point FR1B\n",
       "2 25174-27 Snapper: Bluestriped 3/16/15       Adult Female Barbers Point FR1B\n",
       "3 25174-28 Snapper: Bluestriped 3/16/15       Adult Male   Barbers Point FR1B\n",
       "4 25174-30 Snapper: Bluestriped 3/16/15       Adult Male   Barbers Point FR1B\n",
       "5 25174-26 Snapper: Bluestriped 3/16/15       Adult Male   Barbers Point FR1B\n",
       "6 25174-25 Snapper: Bluestriped 3/16/15       Adult Male   Barbers Point FR1B\n",
       "  Fork_length_cm\n",
       "1 22.5          \n",
       "2 21.6          \n",
       "3 24.7          \n",
       "4 22.0          \n",
       "5 20.7          \n",
       "6 22.0          "
      ]
     },
     "metadata": {},
     "output_type": "display_data"
    }
   ],
   "source": [
    "Fork_length_cm3 = Fork_length_cm2 %>% rename(Fork_length_cm = MeasureValue)\n",
    "head(Fork_length_cm3)"
   ]
  },
  {
   "cell_type": "code",
   "execution_count": 55,
   "id": "1927b47a",
   "metadata": {},
   "outputs": [
    {
     "ename": "ERROR",
     "evalue": "Error:  オブジェクト 'MeasureValue' がありません \n",
     "output_type": "error",
     "traceback": [
      "Error:  オブジェクト 'MeasureValue' がありません \nTraceback:\n",
      "1. rename_col(Fork_length_cm2, MeasureValue, Fork_length_cm)",
      "2. df_name %>% rename({\n .     {\n .         new_col_name\n .     }\n . } == {\n .     {\n .         old_col_name\n .     }\n . })   # at line 2-3 of file <text>",
      "3. rename(., {\n .     {\n .         new_col_name\n .     }\n . } == {\n .     {\n .         old_col_name\n .     }\n . })",
      "4. rename.data.frame(., {\n .     {\n .         new_col_name\n .     }\n . } == {\n .     {\n .         old_col_name\n .     }\n . })",
      "5. tidyselect::eval_rename(expr(c(...)), .data)",
      "6. rename_impl(data, names(data), as_quosure(expr, env), strict = strict, \n .     name_spec = name_spec)",
      "7. eval_select_impl(x, names, {\n .     {\n .         sel\n .     }\n . }, strict = strict, name_spec = name_spec, type = \"rename\")",
      "8. with_subscript_errors(vars_select_eval(vars, expr, strict, data = x, \n .     name_spec = name_spec, uniquely_named = uniquely_named, allow_rename = allow_rename, \n .     type = type), type = type)",
      "9. tryCatch(instrument_base_errors(expr), vctrs_error_subscript = function(cnd) {\n .     cnd$subscript_action <- subscript_action(type)\n .     cnd$subscript_elt <- \"column\"\n .     cnd_signal(cnd)\n . })",
      "10. tryCatchList(expr, classes, parentenv, handlers)",
      "11. tryCatchOne(expr, names, parentenv, handlers[[1L]])",
      "12. doTryCatch(return(expr), name, parentenv, handler)",
      "13. instrument_base_errors(expr)",
      "14. withCallingHandlers(expr, simpleError = function(cnd) {\n  .     abort(conditionMessage(cnd), parent = cnd)\n  . })",
      "15. vars_select_eval(vars, expr, strict, data = x, name_spec = name_spec, \n  .     uniquely_named = uniquely_named, allow_rename = allow_rename, \n  .     type = type)",
      "16. walk_data_tree(expr, data_mask, context_mask)",
      "17. eval_c(expr, data_mask, context_mask)",
      "18. reduce_sels(node, data_mask, context_mask, init = init)",
      "19. walk_data_tree(new, data_mask, context_mask)",
      "20. eval_context(expr, context_mask)",
      "21. eval_tidy(expr, context_mask)",
      "22. ~MeasureValue",
      "23. .handleSimpleError(function (cnd) \n  . {\n  .     abort(conditionMessage(cnd), parent = cnd)\n  . }, \" オブジェクト 'MeasureValue' がありません \", \n  .     base::quote(~MeasureValue))",
      "24. h(simpleError(msg, call))",
      "25. abort(conditionMessage(cnd), parent = cnd)",
      "26. signal_abort(cnd)"
     ]
    }
   ],
   "source": [
    "Fork_length_cm4 = rename_col(Fork_length_cm2, MeasureValue, Fork_length_cm)\n",
    "head(Fork_length_cm4)"
   ]
  }
 ],
 "metadata": {
  "kernelspec": {
   "display_name": "R",
   "language": "R",
   "name": "ir"
  },
  "language_info": {
   "codemirror_mode": "r",
   "file_extension": ".r",
   "mimetype": "text/x-r-source",
   "name": "R",
   "pygments_lexer": "r",
   "version": "3.6.1"
  }
 },
 "nbformat": 4,
 "nbformat_minor": 5
}
