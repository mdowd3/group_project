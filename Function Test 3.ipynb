{
 "cells": [
  {
   "cell_type": "code",
   "execution_count": 1,
   "id": "1202f9b3",
   "metadata": {},
   "outputs": [
    {
     "name": "stderr",
     "output_type": "stream",
     "text": [
      "── Attaching packages ─────────────────────────────────────── tidyverse 1.3.1 ──\n",
      "✔ ggplot2 3.3.5     ✔ purrr   0.3.4\n",
      "✔ tibble  3.1.4     ✔ dplyr   1.0.7\n",
      "✔ tidyr   1.1.3     ✔ stringr 1.4.0\n",
      "✔ readr   2.0.1     ✔ forcats 0.5.1\n",
      "── Conflicts ────────────────────────────────────────── tidyverse_conflicts() ──\n",
      "✖ dplyr::filter() masks stats::filter()\n",
      "✖ dplyr::lag()    masks stats::lag()\n",
      "\n",
      "Attaching package: ‘lubridate’\n",
      "\n",
      "The following objects are masked from ‘package:base’:\n",
      "\n",
      "    date, intersect, setdiff, union\n",
      "\n",
      "\n",
      "Attaching package: ‘MASS’\n",
      "\n",
      "The following object is masked from ‘package:dplyr’:\n",
      "\n",
      "    select\n",
      "\n"
     ]
    }
   ],
   "source": [
    "library(tidyverse)\n",
    "library(lubridate)\n",
    "library(MASS)"
   ]
  },
  {
   "cell_type": "code",
   "execution_count": 2,
   "id": "01357f97",
   "metadata": {},
   "outputs": [
    {
     "data": {
      "text/html": [
       "<table>\n",
       "<thead><tr><th scope=col>CaseAcc</th><th scope=col>Animal</th><th scope=col>DateCollected</th><th scope=col>Age</th><th scope=col>Sex</th><th scope=col>waypoint</th><th scope=col>Measurement</th><th scope=col>MeasureValue</th><th scope=col>MeasurementUnit</th></tr></thead>\n",
       "<tbody>\n",
       "\t<tr><td>25174-21            </td><td>Snapper: Bluestriped</td><td>3/16/15             </td><td>Adult               </td><td>Male                </td><td>Barbers Point FR1B  </td><td>Fork length         </td><td> 22.500             </td><td>cm                  </td></tr>\n",
       "\t<tr><td>25174-21            </td><td>Snapper: Bluestriped</td><td>3/16/15             </td><td>Adult               </td><td>Male                </td><td>Barbers Point FR1B  </td><td>Total length        </td><td> 23.900             </td><td>cm                  </td></tr>\n",
       "\t<tr><td>25174-21            </td><td>Snapper: Bluestriped</td><td>3/16/15             </td><td>Adult               </td><td>Male                </td><td>Barbers Point FR1B  </td><td>Weight carcass      </td><td>201.100             </td><td>g                   </td></tr>\n",
       "\t<tr><td>25174-21            </td><td>Snapper: Bluestriped</td><td>3/16/15             </td><td>Adult               </td><td>Male                </td><td>Barbers Point FR1B  </td><td>Weight liver        </td><td>  1.489             </td><td>g                   </td></tr>\n",
       "\t<tr><td>25174-27            </td><td>Snapper: Bluestriped</td><td>3/16/15             </td><td>Adult               </td><td>Female              </td><td>Barbers Point FR1B  </td><td>Fork length         </td><td> 21.600             </td><td>cm                  </td></tr>\n",
       "\t<tr><td>25174-27            </td><td>Snapper: Bluestriped</td><td>3/16/15             </td><td>Adult               </td><td>Female              </td><td>Barbers Point FR1B  </td><td>Total length        </td><td> 22.800             </td><td>cm                  </td></tr>\n",
       "</tbody>\n",
       "</table>\n"
      ],
      "text/latex": [
       "\\begin{tabular}{r|lllllllll}\n",
       " CaseAcc & Animal & DateCollected & Age & Sex & waypoint & Measurement & MeasureValue & MeasurementUnit\\\\\n",
       "\\hline\n",
       "\t 25174-21             & Snapper: Bluestriped & 3/16/15              & Adult                & Male                 & Barbers Point FR1B   & Fork length          &  22.500              & cm                  \\\\\n",
       "\t 25174-21             & Snapper: Bluestriped & 3/16/15              & Adult                & Male                 & Barbers Point FR1B   & Total length         &  23.900              & cm                  \\\\\n",
       "\t 25174-21             & Snapper: Bluestriped & 3/16/15              & Adult                & Male                 & Barbers Point FR1B   & Weight carcass       & 201.100              & g                   \\\\\n",
       "\t 25174-21             & Snapper: Bluestriped & 3/16/15              & Adult                & Male                 & Barbers Point FR1B   & Weight liver         &   1.489              & g                   \\\\\n",
       "\t 25174-27             & Snapper: Bluestriped & 3/16/15              & Adult                & Female               & Barbers Point FR1B   & Fork length          &  21.600              & cm                  \\\\\n",
       "\t 25174-27             & Snapper: Bluestriped & 3/16/15              & Adult                & Female               & Barbers Point FR1B   & Total length         &  22.800              & cm                  \\\\\n",
       "\\end{tabular}\n"
      ],
      "text/markdown": [
       "\n",
       "| CaseAcc | Animal | DateCollected | Age | Sex | waypoint | Measurement | MeasureValue | MeasurementUnit |\n",
       "|---|---|---|---|---|---|---|---|---|\n",
       "| 25174-21             | Snapper: Bluestriped | 3/16/15              | Adult                | Male                 | Barbers Point FR1B   | Fork length          |  22.500              | cm                   |\n",
       "| 25174-21             | Snapper: Bluestriped | 3/16/15              | Adult                | Male                 | Barbers Point FR1B   | Total length         |  23.900              | cm                   |\n",
       "| 25174-21             | Snapper: Bluestriped | 3/16/15              | Adult                | Male                 | Barbers Point FR1B   | Weight carcass       | 201.100              | g                    |\n",
       "| 25174-21             | Snapper: Bluestriped | 3/16/15              | Adult                | Male                 | Barbers Point FR1B   | Weight liver         |   1.489              | g                    |\n",
       "| 25174-27             | Snapper: Bluestriped | 3/16/15              | Adult                | Female               | Barbers Point FR1B   | Fork length          |  21.600              | cm                   |\n",
       "| 25174-27             | Snapper: Bluestriped | 3/16/15              | Adult                | Female               | Barbers Point FR1B   | Total length         |  22.800              | cm                   |\n",
       "\n"
      ],
      "text/plain": [
       "  CaseAcc  Animal               DateCollected Age   Sex    waypoint          \n",
       "1 25174-21 Snapper: Bluestriped 3/16/15       Adult Male   Barbers Point FR1B\n",
       "2 25174-21 Snapper: Bluestriped 3/16/15       Adult Male   Barbers Point FR1B\n",
       "3 25174-21 Snapper: Bluestriped 3/16/15       Adult Male   Barbers Point FR1B\n",
       "4 25174-21 Snapper: Bluestriped 3/16/15       Adult Male   Barbers Point FR1B\n",
       "5 25174-27 Snapper: Bluestriped 3/16/15       Adult Female Barbers Point FR1B\n",
       "6 25174-27 Snapper: Bluestriped 3/16/15       Adult Female Barbers Point FR1B\n",
       "  Measurement    MeasureValue MeasurementUnit\n",
       "1 Fork length     22.500      cm             \n",
       "2 Total length    23.900      cm             \n",
       "3 Weight carcass 201.100      g              \n",
       "4 Weight liver     1.489      g              \n",
       "5 Fork length     21.600      cm             \n",
       "6 Total length    22.800      cm             "
      ]
     },
     "metadata": {},
     "output_type": "display_data"
    }
   ],
   "source": [
    "snapper=read.csv(\"data/Fish_Data_Snapper.csv\")\n",
    "head(snapper)"
   ]
  },
  {
   "cell_type": "code",
   "execution_count": 3,
   "id": "f94e0e33",
   "metadata": {},
   "outputs": [],
   "source": [
    "subset_by_col_value = function(df_name, col_name, col_val){\n",
    "    df_name %>%\n",
    "    filter({{col_name}} == col_val)\n",
    "}\n",
    "remove_col = function (df_name, col_name){\n",
    "    df_name %>%\n",
    "    dplyr::select(-{{col_name}})\n",
    "}\n",
    "waypoint_dbl = function (df_name, col_name){\n",
    "    df_name %>%\n",
    "    mutate(\n",
    "    Waypoint_dbl = as.double({{col_name}}))\n",
    "}\n",
    "age_dbl = function (df_name, col_name){\n",
    "    df_name %>%\n",
    "    mutate(\n",
    "    Age_dbl = as.double({{col_name}}))\n",
    "}\n",
    "sex_dbl = function (df_name, col_name){\n",
    "    df_name %>%\n",
    "    mutate(\n",
    "    Sex_dbl = as.double({{col_name}}))\n",
    "}\n",
    "dateR = function (df_name, col_name, date_format){\n",
    "    df_name %>%\n",
    "    mutate(\n",
    "        DateR = as.POSIXct({{col_name}}, format= date_format))\n",
    "}"
   ]
  },
  {
   "cell_type": "code",
   "execution_count": 4,
   "id": "01076fce",
   "metadata": {},
   "outputs": [],
   "source": [
    "Total_length_cm = subset_by_col_value(snapper, Measurement, 'Total length')\n",
    "Total_length_cm2 = remove_col(Total_length_cm, col_name = c(\"Measurement\", \"MeasurementUnit\"))\n",
    "Total_length_cm3 = waypoint_dbl(Total_length_cm2, waypoint)\n",
    "Total_length_cm4 = sex_dbl(Total_length_cm3, Sex)\n",
    "Total_length_cm5 = age_dbl(Total_length_cm4, Age)\n",
    "Total_length_cm6 = dateR(Total_length_cm5, DateCollected, \"%m/%d/%Y\")"
   ]
  },
  {
   "cell_type": "code",
   "execution_count": 5,
   "id": "ec0af2e1",
   "metadata": {},
   "outputs": [
    {
     "data": {
      "text/html": [
       "<table>\n",
       "<thead><tr><th scope=col>CaseAcc</th><th scope=col>Animal</th><th scope=col>DateCollected</th><th scope=col>Age</th><th scope=col>Sex</th><th scope=col>waypoint</th><th scope=col>MeasureValue</th><th scope=col>Waypoint_dbl</th><th scope=col>Sex_dbl</th><th scope=col>Age_dbl</th><th scope=col>DateR</th></tr></thead>\n",
       "<tbody>\n",
       "\t<tr><td>25174-21            </td><td>Snapper: Bluestriped</td><td>3/16/15             </td><td>Adult               </td><td>Male                </td><td>Barbers Point FR1B  </td><td>23.9                </td><td>2                   </td><td>3                   </td><td>2                   </td><td>0015-03-16          </td></tr>\n",
       "\t<tr><td>25174-27            </td><td>Snapper: Bluestriped</td><td>3/16/15             </td><td>Adult               </td><td>Female              </td><td>Barbers Point FR1B  </td><td>22.8                </td><td>2                   </td><td>2                   </td><td>2                   </td><td>0015-03-16          </td></tr>\n",
       "\t<tr><td>25174-28            </td><td>Snapper: Bluestriped</td><td>3/16/15             </td><td>Adult               </td><td>Male                </td><td>Barbers Point FR1B  </td><td>26.0                </td><td>2                   </td><td>3                   </td><td>2                   </td><td>0015-03-16          </td></tr>\n",
       "\t<tr><td>25174-30            </td><td>Snapper: Bluestriped</td><td>3/16/15             </td><td>Adult               </td><td>Male                </td><td>Barbers Point FR1B  </td><td>23.2                </td><td>2                   </td><td>3                   </td><td>2                   </td><td>0015-03-16          </td></tr>\n",
       "\t<tr><td>25174-26            </td><td>Snapper: Bluestriped</td><td>3/16/15             </td><td>Adult               </td><td>Male                </td><td>Barbers Point FR1B  </td><td>21.7                </td><td>2                   </td><td>3                   </td><td>2                   </td><td>0015-03-16          </td></tr>\n",
       "\t<tr><td>25174-25            </td><td>Snapper: Bluestriped</td><td>3/16/15             </td><td>Adult               </td><td>Male                </td><td>Barbers Point FR1B  </td><td>23.4                </td><td>2                   </td><td>3                   </td><td>2                   </td><td>0015-03-16          </td></tr>\n",
       "</tbody>\n",
       "</table>\n"
      ],
      "text/latex": [
       "\\begin{tabular}{r|lllllllllll}\n",
       " CaseAcc & Animal & DateCollected & Age & Sex & waypoint & MeasureValue & Waypoint\\_dbl & Sex\\_dbl & Age\\_dbl & DateR\\\\\n",
       "\\hline\n",
       "\t 25174-21             & Snapper: Bluestriped & 3/16/15              & Adult                & Male                 & Barbers Point FR1B   & 23.9                 & 2                    & 3                    & 2                    & 0015-03-16          \\\\\n",
       "\t 25174-27             & Snapper: Bluestriped & 3/16/15              & Adult                & Female               & Barbers Point FR1B   & 22.8                 & 2                    & 2                    & 2                    & 0015-03-16          \\\\\n",
       "\t 25174-28             & Snapper: Bluestriped & 3/16/15              & Adult                & Male                 & Barbers Point FR1B   & 26.0                 & 2                    & 3                    & 2                    & 0015-03-16          \\\\\n",
       "\t 25174-30             & Snapper: Bluestriped & 3/16/15              & Adult                & Male                 & Barbers Point FR1B   & 23.2                 & 2                    & 3                    & 2                    & 0015-03-16          \\\\\n",
       "\t 25174-26             & Snapper: Bluestriped & 3/16/15              & Adult                & Male                 & Barbers Point FR1B   & 21.7                 & 2                    & 3                    & 2                    & 0015-03-16          \\\\\n",
       "\t 25174-25             & Snapper: Bluestriped & 3/16/15              & Adult                & Male                 & Barbers Point FR1B   & 23.4                 & 2                    & 3                    & 2                    & 0015-03-16          \\\\\n",
       "\\end{tabular}\n"
      ],
      "text/markdown": [
       "\n",
       "| CaseAcc | Animal | DateCollected | Age | Sex | waypoint | MeasureValue | Waypoint_dbl | Sex_dbl | Age_dbl | DateR |\n",
       "|---|---|---|---|---|---|---|---|---|---|---|\n",
       "| 25174-21             | Snapper: Bluestriped | 3/16/15              | Adult                | Male                 | Barbers Point FR1B   | 23.9                 | 2                    | 3                    | 2                    | 0015-03-16           |\n",
       "| 25174-27             | Snapper: Bluestriped | 3/16/15              | Adult                | Female               | Barbers Point FR1B   | 22.8                 | 2                    | 2                    | 2                    | 0015-03-16           |\n",
       "| 25174-28             | Snapper: Bluestriped | 3/16/15              | Adult                | Male                 | Barbers Point FR1B   | 26.0                 | 2                    | 3                    | 2                    | 0015-03-16           |\n",
       "| 25174-30             | Snapper: Bluestriped | 3/16/15              | Adult                | Male                 | Barbers Point FR1B   | 23.2                 | 2                    | 3                    | 2                    | 0015-03-16           |\n",
       "| 25174-26             | Snapper: Bluestriped | 3/16/15              | Adult                | Male                 | Barbers Point FR1B   | 21.7                 | 2                    | 3                    | 2                    | 0015-03-16           |\n",
       "| 25174-25             | Snapper: Bluestriped | 3/16/15              | Adult                | Male                 | Barbers Point FR1B   | 23.4                 | 2                    | 3                    | 2                    | 0015-03-16           |\n",
       "\n"
      ],
      "text/plain": [
       "  CaseAcc  Animal               DateCollected Age   Sex    waypoint          \n",
       "1 25174-21 Snapper: Bluestriped 3/16/15       Adult Male   Barbers Point FR1B\n",
       "2 25174-27 Snapper: Bluestriped 3/16/15       Adult Female Barbers Point FR1B\n",
       "3 25174-28 Snapper: Bluestriped 3/16/15       Adult Male   Barbers Point FR1B\n",
       "4 25174-30 Snapper: Bluestriped 3/16/15       Adult Male   Barbers Point FR1B\n",
       "5 25174-26 Snapper: Bluestriped 3/16/15       Adult Male   Barbers Point FR1B\n",
       "6 25174-25 Snapper: Bluestriped 3/16/15       Adult Male   Barbers Point FR1B\n",
       "  MeasureValue Waypoint_dbl Sex_dbl Age_dbl DateR     \n",
       "1 23.9         2            3       2       0015-03-16\n",
       "2 22.8         2            2       2       0015-03-16\n",
       "3 26.0         2            3       2       0015-03-16\n",
       "4 23.2         2            3       2       0015-03-16\n",
       "5 21.7         2            3       2       0015-03-16\n",
       "6 23.4         2            3       2       0015-03-16"
      ]
     },
     "metadata": {},
     "output_type": "display_data"
    }
   ],
   "source": [
    "head(Total_length_cm6)"
   ]
  },
  {
   "cell_type": "markdown",
   "id": "db75ccdc",
   "metadata": {},
   "source": [
    "# Need Help Below"
   ]
  },
  {
   "cell_type": "markdown",
   "id": "9c6e873c",
   "metadata": {},
   "source": [
    "### rename_col error"
   ]
  },
  {
   "cell_type": "code",
   "execution_count": 6,
   "id": "f1b6b6ee",
   "metadata": {},
   "outputs": [
    {
     "data": {
      "text/html": [
       "<table>\n",
       "<thead><tr><th scope=col>CaseAcc</th><th scope=col>Animal</th><th scope=col>DateCollected</th><th scope=col>Age</th><th scope=col>Sex</th><th scope=col>waypoint</th><th scope=col>Total_length_cm</th><th scope=col>Waypoint_dbl</th><th scope=col>Sex_dbl</th><th scope=col>Age_dbl</th><th scope=col>DateR</th></tr></thead>\n",
       "<tbody>\n",
       "\t<tr><td>25174-21            </td><td>Snapper: Bluestriped</td><td>3/16/15             </td><td>Adult               </td><td>Male                </td><td>Barbers Point FR1B  </td><td>23.9                </td><td>2                   </td><td>3                   </td><td>2                   </td><td>0015-03-16          </td></tr>\n",
       "\t<tr><td>25174-27            </td><td>Snapper: Bluestriped</td><td>3/16/15             </td><td>Adult               </td><td>Female              </td><td>Barbers Point FR1B  </td><td>22.8                </td><td>2                   </td><td>2                   </td><td>2                   </td><td>0015-03-16          </td></tr>\n",
       "\t<tr><td>25174-28            </td><td>Snapper: Bluestriped</td><td>3/16/15             </td><td>Adult               </td><td>Male                </td><td>Barbers Point FR1B  </td><td>26.0                </td><td>2                   </td><td>3                   </td><td>2                   </td><td>0015-03-16          </td></tr>\n",
       "\t<tr><td>25174-30            </td><td>Snapper: Bluestriped</td><td>3/16/15             </td><td>Adult               </td><td>Male                </td><td>Barbers Point FR1B  </td><td>23.2                </td><td>2                   </td><td>3                   </td><td>2                   </td><td>0015-03-16          </td></tr>\n",
       "\t<tr><td>25174-26            </td><td>Snapper: Bluestriped</td><td>3/16/15             </td><td>Adult               </td><td>Male                </td><td>Barbers Point FR1B  </td><td>21.7                </td><td>2                   </td><td>3                   </td><td>2                   </td><td>0015-03-16          </td></tr>\n",
       "\t<tr><td>25174-25            </td><td>Snapper: Bluestriped</td><td>3/16/15             </td><td>Adult               </td><td>Male                </td><td>Barbers Point FR1B  </td><td>23.4                </td><td>2                   </td><td>3                   </td><td>2                   </td><td>0015-03-16          </td></tr>\n",
       "</tbody>\n",
       "</table>\n"
      ],
      "text/latex": [
       "\\begin{tabular}{r|lllllllllll}\n",
       " CaseAcc & Animal & DateCollected & Age & Sex & waypoint & Total\\_length\\_cm & Waypoint\\_dbl & Sex\\_dbl & Age\\_dbl & DateR\\\\\n",
       "\\hline\n",
       "\t 25174-21             & Snapper: Bluestriped & 3/16/15              & Adult                & Male                 & Barbers Point FR1B   & 23.9                 & 2                    & 3                    & 2                    & 0015-03-16          \\\\\n",
       "\t 25174-27             & Snapper: Bluestriped & 3/16/15              & Adult                & Female               & Barbers Point FR1B   & 22.8                 & 2                    & 2                    & 2                    & 0015-03-16          \\\\\n",
       "\t 25174-28             & Snapper: Bluestriped & 3/16/15              & Adult                & Male                 & Barbers Point FR1B   & 26.0                 & 2                    & 3                    & 2                    & 0015-03-16          \\\\\n",
       "\t 25174-30             & Snapper: Bluestriped & 3/16/15              & Adult                & Male                 & Barbers Point FR1B   & 23.2                 & 2                    & 3                    & 2                    & 0015-03-16          \\\\\n",
       "\t 25174-26             & Snapper: Bluestriped & 3/16/15              & Adult                & Male                 & Barbers Point FR1B   & 21.7                 & 2                    & 3                    & 2                    & 0015-03-16          \\\\\n",
       "\t 25174-25             & Snapper: Bluestriped & 3/16/15              & Adult                & Male                 & Barbers Point FR1B   & 23.4                 & 2                    & 3                    & 2                    & 0015-03-16          \\\\\n",
       "\\end{tabular}\n"
      ],
      "text/markdown": [
       "\n",
       "| CaseAcc | Animal | DateCollected | Age | Sex | waypoint | Total_length_cm | Waypoint_dbl | Sex_dbl | Age_dbl | DateR |\n",
       "|---|---|---|---|---|---|---|---|---|---|---|\n",
       "| 25174-21             | Snapper: Bluestriped | 3/16/15              | Adult                | Male                 | Barbers Point FR1B   | 23.9                 | 2                    | 3                    | 2                    | 0015-03-16           |\n",
       "| 25174-27             | Snapper: Bluestriped | 3/16/15              | Adult                | Female               | Barbers Point FR1B   | 22.8                 | 2                    | 2                    | 2                    | 0015-03-16           |\n",
       "| 25174-28             | Snapper: Bluestriped | 3/16/15              | Adult                | Male                 | Barbers Point FR1B   | 26.0                 | 2                    | 3                    | 2                    | 0015-03-16           |\n",
       "| 25174-30             | Snapper: Bluestriped | 3/16/15              | Adult                | Male                 | Barbers Point FR1B   | 23.2                 | 2                    | 3                    | 2                    | 0015-03-16           |\n",
       "| 25174-26             | Snapper: Bluestriped | 3/16/15              | Adult                | Male                 | Barbers Point FR1B   | 21.7                 | 2                    | 3                    | 2                    | 0015-03-16           |\n",
       "| 25174-25             | Snapper: Bluestriped | 3/16/15              | Adult                | Male                 | Barbers Point FR1B   | 23.4                 | 2                    | 3                    | 2                    | 0015-03-16           |\n",
       "\n"
      ],
      "text/plain": [
       "  CaseAcc  Animal               DateCollected Age   Sex    waypoint          \n",
       "1 25174-21 Snapper: Bluestriped 3/16/15       Adult Male   Barbers Point FR1B\n",
       "2 25174-27 Snapper: Bluestriped 3/16/15       Adult Female Barbers Point FR1B\n",
       "3 25174-28 Snapper: Bluestriped 3/16/15       Adult Male   Barbers Point FR1B\n",
       "4 25174-30 Snapper: Bluestriped 3/16/15       Adult Male   Barbers Point FR1B\n",
       "5 25174-26 Snapper: Bluestriped 3/16/15       Adult Male   Barbers Point FR1B\n",
       "6 25174-25 Snapper: Bluestriped 3/16/15       Adult Male   Barbers Point FR1B\n",
       "  Total_length_cm Waypoint_dbl Sex_dbl Age_dbl DateR     \n",
       "1 23.9            2            3       2       0015-03-16\n",
       "2 22.8            2            2       2       0015-03-16\n",
       "3 26.0            2            3       2       0015-03-16\n",
       "4 23.2            2            3       2       0015-03-16\n",
       "5 21.7            2            3       2       0015-03-16\n",
       "6 23.4            2            3       2       0015-03-16"
      ]
     },
     "metadata": {},
     "output_type": "display_data"
    }
   ],
   "source": [
    "test1 = Total_length_cm6 %>% rename(Total_length_cm = MeasureValue)\n",
    "head(test1)"
   ]
  },
  {
   "cell_type": "code",
   "execution_count": 7,
   "id": "8aa079bc",
   "metadata": {},
   "outputs": [
    {
     "ename": "ERROR",
     "evalue": "Error in parse(text = x, srcfile = src): <text>:3:29:  予想外の '=' です \n2:     df_name %>%\n3:     rename({{new_col_name}} =\n                               ^\n",
     "output_type": "error",
     "traceback": [
      "Error in parse(text = x, srcfile = src): <text>:3:29:  予想外の '=' です \n2:     df_name %>%\n3:     rename({{new_col_name}} =\n                               ^\nTraceback:\n"
     ]
    }
   ],
   "source": [
    "rename_col = function(df_name, old_col_name, new_col_name){\n",
    "    df_name %>%\n",
    "    rename({{new_col_name}} = {{old_col_name}})\n",
    "}"
   ]
  },
  {
   "cell_type": "code",
   "execution_count": null,
   "id": "eab9277b",
   "metadata": {},
   "outputs": [],
   "source": [
    "test2 = rename_col(Total_length_cm6, MeasureValue, Total_length_cm)"
   ]
  },
  {
   "cell_type": "markdown",
   "id": "0dda8db6",
   "metadata": {},
   "source": [
    "Error in the original function. Unexpected = sign. Cannot assign column name in function? Becuase it works outside the function with %>%"
   ]
  },
  {
   "cell_type": "markdown",
   "id": "972a745f",
   "metadata": {},
   "source": [
    "### get_stats error"
   ]
  },
  {
   "cell_type": "code",
   "execution_count": 8,
   "id": "9f34908a",
   "metadata": {},
   "outputs": [
    {
     "data": {
      "text/html": [
       "<dl class=dl-horizontal>\n",
       "\t<dt>1</dt>\n",
       "\t\t<dd>&lt;NA&gt;</dd>\n",
       "\t<dt>Female</dt>\n",
       "\t\t<dd>22.3101176470588</dd>\n",
       "\t<dt>Male</dt>\n",
       "\t\t<dd>23.8094533029613</dd>\n",
       "\t<dt>Unknown</dt>\n",
       "\t\t<dd>19.8285714285714</dd>\n",
       "</dl>\n"
      ],
      "text/latex": [
       "\\begin{description*}\n",
       "\\item[1] <NA>\n",
       "\\item[Female] 22.3101176470588\n",
       "\\item[Male] 23.8094533029613\n",
       "\\item[Unknown] 19.8285714285714\n",
       "\\end{description*}\n"
      ],
      "text/markdown": [
       "1\n",
       ":   &lt;NA&gt;Female\n",
       ":   22.3101176470588Male\n",
       ":   23.8094533029613Unknown\n",
       ":   19.8285714285714\n",
       "\n"
      ],
      "text/plain": [
       "           Female     Male  Unknown \n",
       "      NA 22.31012 23.80945 19.82857 "
      ]
     },
     "metadata": {},
     "output_type": "display_data"
    }
   ],
   "source": [
    "tapply(Total_length_cm6$MeasureValue, Total_length_cm6$Sex, mean)"
   ]
  },
  {
   "cell_type": "code",
   "execution_count": 12,
   "id": "0c672796",
   "metadata": {},
   "outputs": [
    {
     "ename": "ERROR",
     "evalue": "Error in tapply(., MeasureValue, Sex, mean):  オブジェクト 'Sex' がありません \n",
     "output_type": "error",
     "traceback": [
      "Error in tapply(., MeasureValue, Sex, mean):  オブジェクト 'Sex' がありません \nTraceback:\n",
      "1. Total_length_cm6 %>% tapply(MeasureValue, Sex, mean)",
      "2. tapply(., MeasureValue, Sex, mean)"
     ]
    }
   ],
   "source": [
    "Total_length_cm6 %>% tapply(MeasureValue, Sex, mean)"
   ]
  },
  {
   "cell_type": "code",
   "execution_count": 13,
   "id": "85b21566",
   "metadata": {},
   "outputs": [
    {
     "ename": "ERROR",
     "evalue": "Error in parse(text = x, srcfile = src): <text>:2:20:  予想外の '{' です \n1: get_stats = function (df_name, parameter1, parameter2, statistic) {\n2:     tapply(df_name${\n                      ^\n",
     "output_type": "error",
     "traceback": [
      "Error in parse(text = x, srcfile = src): <text>:2:20:  予想外の '{' です \n1: get_stats = function (df_name, parameter1, parameter2, statistic) {\n2:     tapply(df_name${\n                      ^\nTraceback:\n"
     ]
    }
   ],
   "source": [
    "get_stats = function (df_name, parameter1, parameter2, statistic) {\n",
    "    tapply(df_name${{parameter1}}, df_name${{parameter2}}, statistic)\n",
    "}"
   ]
  },
  {
   "cell_type": "code",
   "execution_count": 14,
   "id": "33501ba4",
   "metadata": {},
   "outputs": [],
   "source": [
    "get_stats2 = function (df_name, parameter1, parameter2, statistic) {\n",
    "    tapply(df_name$parameter1, df_name$parameter2, statistic)\n",
    "}"
   ]
  },
  {
   "cell_type": "code",
   "execution_count": 15,
   "id": "5be41085",
   "metadata": {},
   "outputs": [
    {
     "ename": "ERROR",
     "evalue": "Error in split.default(X, group):  最初の引数はベクトルでなくてはなりません \n",
     "output_type": "error",
     "traceback": [
      "Error in split.default(X, group):  最初の引数はベクトルでなくてはなりません \nTraceback:\n",
      "1. get_stats2(Total_length_cm6, MeasureValue, Sex, mean)",
      "2. tapply(df_name$parameter1, df_name$parameter2, statistic)   # at line 2 of file <text>",
      "3. split(X, group)",
      "4. split.default(X, group)"
     ]
    }
   ],
   "source": [
    "get_stats2(Total_length_cm6, MeasureValue, Sex, mean)"
   ]
  },
  {
   "cell_type": "markdown",
   "id": "7a278c59",
   "metadata": {},
   "source": [
    "Seems that it needs to be in the form of df_name$col_name to work, cannot use pipes. Trying to put the col_name in {{}} says the { is an unexpected sybmol. However if we remove the {{}} around the col_name, it says the first argument is not a vector"
   ]
  },
  {
   "cell_type": "markdown",
   "id": "3e549f45",
   "metadata": {},
   "source": [
    "### linear model/multiple linear model error"
   ]
  },
  {
   "cell_type": "code",
   "execution_count": 21,
   "id": "9262872a",
   "metadata": {},
   "outputs": [
    {
     "data": {
      "text/plain": [
       "\n",
       "Call:\n",
       "lm(formula = MeasureValue ~ Sex_dbl, data = Total_length_cm6)\n",
       "\n",
       "Residuals:\n",
       "    Min      1Q  Median      3Q     Max \n",
       "-7.0261 -1.6962 -0.0261  1.5739  8.9739 \n",
       "\n",
       "Coefficients:\n",
       "            Estimate Std. Error t value Pr(>|t|)    \n",
       "(Intercept)  19.7364     0.3914  50.428   <2e-16 ***\n",
       "Sex_dbl       1.3299     0.1437   9.253   <2e-16 ***\n",
       "---\n",
       "Signif. codes:  0 ‘***’ 0.001 ‘**’ 0.01 ‘*’ 0.05 ‘.’ 0.1 ‘ ’ 1\n",
       "\n",
       "Residual standard error: 2.484 on 1308 degrees of freedom\n",
       "Multiple R-squared:  0.06144,\tAdjusted R-squared:  0.06072 \n",
       "F-statistic: 85.62 on 1 and 1308 DF,  p-value: < 2.2e-16\n"
      ]
     },
     "metadata": {},
     "output_type": "display_data"
    }
   ],
   "source": [
    "lm(MeasureValue~Sex_dbl, data=Total_length_cm6) %>% summary()"
   ]
  },
  {
   "cell_type": "code",
   "execution_count": 27,
   "id": "3151f1b0",
   "metadata": {},
   "outputs": [
    {
     "ename": "ERROR",
     "evalue": "Error in as.data.frame.default(data): cannot coerce class ‘\"formula\"’ to a data.frame\n",
     "output_type": "error",
     "traceback": [
      "Error in as.data.frame.default(data): cannot coerce class ‘\"formula\"’ to a data.frame\nTraceback:\n",
      "1. Total_length_cm6 %>% lm(MeasureValue ~ Sex_dbl) %>% summary()",
      "2. summary(.)",
      "3. lm(., MeasureValue ~ Sex_dbl)",
      "4. eval(mf, parent.frame())",
      "5. eval(mf, parent.frame())",
      "6. stats::model.frame(formula = ., data = MeasureValue ~ Sex_dbl, \n .     drop.unused.levels = TRUE)",
      "7. model.frame.default(formula = ., data = MeasureValue ~ Sex_dbl, \n .     drop.unused.levels = TRUE)",
      "8. as.data.frame(data)",
      "9. as.data.frame.default(data)",
      "10. stop(gettextf(\"cannot coerce class %s to a data.frame\", sQuote(deparse(class(x))[1L])), \n  .     domain = NA)"
     ]
    }
   ],
   "source": [
    "Total_length_cm6 %>% lm(MeasureValue~Sex_dbl) %>% summary()"
   ]
  },
  {
   "cell_type": "code",
   "execution_count": 22,
   "id": "6b8a6432",
   "metadata": {},
   "outputs": [],
   "source": [
    "linear_model_summary = function (response_variable, explanatory_variable, df_name) {\n",
    "    lm({{response_variable}}~{{explanatory_variable}}, data=df_name) %>% summary()\n",
    "}"
   ]
  },
  {
   "cell_type": "code",
   "execution_count": 28,
   "id": "945ef4ca",
   "metadata": {},
   "outputs": [],
   "source": [
    "linear_model_summary2 = function (response_variable, explanatory_variable, df_name) {\n",
    "    lm(response_variable~explanatory_variable, data=df_name) %>% summary()\n",
    "}"
   ]
  },
  {
   "cell_type": "code",
   "execution_count": 29,
   "id": "bf781567",
   "metadata": {},
   "outputs": [
    {
     "data": {
      "text/html": [
       "<table>\n",
       "<thead><tr><th scope=col>CaseAcc</th><th scope=col>Animal</th><th scope=col>DateCollected</th><th scope=col>Age</th><th scope=col>Sex</th><th scope=col>waypoint</th><th scope=col>MeasureValue</th><th scope=col>Waypoint_dbl</th><th scope=col>Sex_dbl</th><th scope=col>Age_dbl</th><th scope=col>DateR</th></tr></thead>\n",
       "<tbody>\n",
       "\t<tr><td>25174-21            </td><td>Snapper: Bluestriped</td><td>3/16/15             </td><td>Adult               </td><td>Male                </td><td>Barbers Point FR1B  </td><td>23.9                </td><td>2                   </td><td>3                   </td><td>2                   </td><td>0015-03-16          </td></tr>\n",
       "\t<tr><td>25174-27            </td><td>Snapper: Bluestriped</td><td>3/16/15             </td><td>Adult               </td><td>Female              </td><td>Barbers Point FR1B  </td><td>22.8                </td><td>2                   </td><td>2                   </td><td>2                   </td><td>0015-03-16          </td></tr>\n",
       "\t<tr><td>25174-28            </td><td>Snapper: Bluestriped</td><td>3/16/15             </td><td>Adult               </td><td>Male                </td><td>Barbers Point FR1B  </td><td>26.0                </td><td>2                   </td><td>3                   </td><td>2                   </td><td>0015-03-16          </td></tr>\n",
       "\t<tr><td>25174-30            </td><td>Snapper: Bluestriped</td><td>3/16/15             </td><td>Adult               </td><td>Male                </td><td>Barbers Point FR1B  </td><td>23.2                </td><td>2                   </td><td>3                   </td><td>2                   </td><td>0015-03-16          </td></tr>\n",
       "\t<tr><td>25174-26            </td><td>Snapper: Bluestriped</td><td>3/16/15             </td><td>Adult               </td><td>Male                </td><td>Barbers Point FR1B  </td><td>21.7                </td><td>2                   </td><td>3                   </td><td>2                   </td><td>0015-03-16          </td></tr>\n",
       "\t<tr><td>25174-25            </td><td>Snapper: Bluestriped</td><td>3/16/15             </td><td>Adult               </td><td>Male                </td><td>Barbers Point FR1B  </td><td>23.4                </td><td>2                   </td><td>3                   </td><td>2                   </td><td>0015-03-16          </td></tr>\n",
       "</tbody>\n",
       "</table>\n"
      ],
      "text/latex": [
       "\\begin{tabular}{r|lllllllllll}\n",
       " CaseAcc & Animal & DateCollected & Age & Sex & waypoint & MeasureValue & Waypoint\\_dbl & Sex\\_dbl & Age\\_dbl & DateR\\\\\n",
       "\\hline\n",
       "\t 25174-21             & Snapper: Bluestriped & 3/16/15              & Adult                & Male                 & Barbers Point FR1B   & 23.9                 & 2                    & 3                    & 2                    & 0015-03-16          \\\\\n",
       "\t 25174-27             & Snapper: Bluestriped & 3/16/15              & Adult                & Female               & Barbers Point FR1B   & 22.8                 & 2                    & 2                    & 2                    & 0015-03-16          \\\\\n",
       "\t 25174-28             & Snapper: Bluestriped & 3/16/15              & Adult                & Male                 & Barbers Point FR1B   & 26.0                 & 2                    & 3                    & 2                    & 0015-03-16          \\\\\n",
       "\t 25174-30             & Snapper: Bluestriped & 3/16/15              & Adult                & Male                 & Barbers Point FR1B   & 23.2                 & 2                    & 3                    & 2                    & 0015-03-16          \\\\\n",
       "\t 25174-26             & Snapper: Bluestriped & 3/16/15              & Adult                & Male                 & Barbers Point FR1B   & 21.7                 & 2                    & 3                    & 2                    & 0015-03-16          \\\\\n",
       "\t 25174-25             & Snapper: Bluestriped & 3/16/15              & Adult                & Male                 & Barbers Point FR1B   & 23.4                 & 2                    & 3                    & 2                    & 0015-03-16          \\\\\n",
       "\\end{tabular}\n"
      ],
      "text/markdown": [
       "\n",
       "| CaseAcc | Animal | DateCollected | Age | Sex | waypoint | MeasureValue | Waypoint_dbl | Sex_dbl | Age_dbl | DateR |\n",
       "|---|---|---|---|---|---|---|---|---|---|---|\n",
       "| 25174-21             | Snapper: Bluestriped | 3/16/15              | Adult                | Male                 | Barbers Point FR1B   | 23.9                 | 2                    | 3                    | 2                    | 0015-03-16           |\n",
       "| 25174-27             | Snapper: Bluestriped | 3/16/15              | Adult                | Female               | Barbers Point FR1B   | 22.8                 | 2                    | 2                    | 2                    | 0015-03-16           |\n",
       "| 25174-28             | Snapper: Bluestriped | 3/16/15              | Adult                | Male                 | Barbers Point FR1B   | 26.0                 | 2                    | 3                    | 2                    | 0015-03-16           |\n",
       "| 25174-30             | Snapper: Bluestriped | 3/16/15              | Adult                | Male                 | Barbers Point FR1B   | 23.2                 | 2                    | 3                    | 2                    | 0015-03-16           |\n",
       "| 25174-26             | Snapper: Bluestriped | 3/16/15              | Adult                | Male                 | Barbers Point FR1B   | 21.7                 | 2                    | 3                    | 2                    | 0015-03-16           |\n",
       "| 25174-25             | Snapper: Bluestriped | 3/16/15              | Adult                | Male                 | Barbers Point FR1B   | 23.4                 | 2                    | 3                    | 2                    | 0015-03-16           |\n",
       "\n"
      ],
      "text/plain": [
       "  CaseAcc  Animal               DateCollected Age   Sex    waypoint          \n",
       "1 25174-21 Snapper: Bluestriped 3/16/15       Adult Male   Barbers Point FR1B\n",
       "2 25174-27 Snapper: Bluestriped 3/16/15       Adult Female Barbers Point FR1B\n",
       "3 25174-28 Snapper: Bluestriped 3/16/15       Adult Male   Barbers Point FR1B\n",
       "4 25174-30 Snapper: Bluestriped 3/16/15       Adult Male   Barbers Point FR1B\n",
       "5 25174-26 Snapper: Bluestriped 3/16/15       Adult Male   Barbers Point FR1B\n",
       "6 25174-25 Snapper: Bluestriped 3/16/15       Adult Male   Barbers Point FR1B\n",
       "  MeasureValue Waypoint_dbl Sex_dbl Age_dbl DateR     \n",
       "1 23.9         2            3       2       0015-03-16\n",
       "2 22.8         2            2       2       0015-03-16\n",
       "3 26.0         2            3       2       0015-03-16\n",
       "4 23.2         2            3       2       0015-03-16\n",
       "5 21.7         2            3       2       0015-03-16\n",
       "6 23.4         2            3       2       0015-03-16"
      ]
     },
     "metadata": {},
     "output_type": "display_data"
    }
   ],
   "source": [
    "head(Total_length_cm6)"
   ]
  },
  {
   "cell_type": "code",
   "execution_count": 24,
   "id": "49e7f250",
   "metadata": {},
   "outputs": [
    {
     "ename": "ERROR",
     "evalue": "Error in eval(predvars, data, env):  オブジェクト 'MeasureValue' がありません \n",
     "output_type": "error",
     "traceback": [
      "Error in eval(predvars, data, env):  オブジェクト 'MeasureValue' がありません \nTraceback:\n",
      "1. linear_model_summary(MeasureValue, Sex_dbl, Total_length_cm6)",
      "2. lm({\n .     {\n .         response_variable\n .     }\n . } ~ {\n .     {\n .         explanatory_variable\n .     }\n . }, data = df_name) %>% summary()   # at line 2 of file <text>",
      "3. summary(.)",
      "4. lm({\n .     {\n .         response_variable\n .     }\n . } ~ {\n .     {\n .         explanatory_variable\n .     }\n . }, data = df_name)",
      "5. eval(mf, parent.frame())",
      "6. eval(mf, parent.frame())",
      "7. stats::model.frame(formula = {\n .     {\n .         response_variable\n .     }\n . } ~ {\n .     {\n .         explanatory_variable\n .     }\n . }, data = df_name, drop.unused.levels = TRUE)",
      "8. model.frame.default(formula = {\n .     {\n .         response_variable\n .     }\n . } ~ {\n .     {\n .         explanatory_variable\n .     }\n . }, data = df_name, drop.unused.levels = TRUE)",
      "9. eval(predvars, data, env)",
      "10. eval(predvars, data, env)"
     ]
    }
   ],
   "source": [
    "linear_model_summary(MeasureValue, Sex_dbl, Total_length_cm6)"
   ]
  },
  {
   "cell_type": "code",
   "execution_count": 25,
   "id": "4043d5bc",
   "metadata": {},
   "outputs": [
    {
     "ename": "ERROR",
     "evalue": "Error in eval(predvars, data, env):  オブジェクト 'MeasureValue' がありません \n",
     "output_type": "error",
     "traceback": [
      "Error in eval(predvars, data, env):  オブジェクト 'MeasureValue' がありません \nTraceback:\n",
      "1. linear_model_summary2(MeasureValue, Sex_dbl, Total_length_cm6)",
      "2. lm(response_variable ~ explanatory_variable, data = df_name) %>% \n .     summary()   # at line 2 of file <text>",
      "3. summary(.)",
      "4. lm(response_variable ~ explanatory_variable, data = df_name)",
      "5. eval(mf, parent.frame())",
      "6. eval(mf, parent.frame())",
      "7. stats::model.frame(formula = response_variable ~ explanatory_variable, \n .     data = df_name, drop.unused.levels = TRUE)",
      "8. model.frame.default(formula = response_variable ~ explanatory_variable, \n .     data = df_name, drop.unused.levels = TRUE)",
      "9. eval(predvars, data, env)",
      "10. eval(predvars, data, env)"
     ]
    }
   ],
   "source": [
    "linear_model_summary2(MeasureValue, Sex_dbl, Total_length_cm6)"
   ]
  },
  {
   "cell_type": "markdown",
   "id": "2f1259a6",
   "metadata": {},
   "source": [
    "Regardless if the col_name is in {{}} or not, still says it does not have the column. Does not work to put the df_name before with %>%"
   ]
  },
  {
   "cell_type": "markdown",
   "id": "49c2f0f1",
   "metadata": {},
   "source": [
    "I want to do something in the same way with an mlm and into a stepAIC, but the same issue as above occurs. "
   ]
  }
 ],
 "metadata": {
  "kernelspec": {
   "display_name": "R",
   "language": "R",
   "name": "ir"
  },
  "language_info": {
   "codemirror_mode": "r",
   "file_extension": ".r",
   "mimetype": "text/x-r-source",
   "name": "R",
   "pygments_lexer": "r",
   "version": "3.6.1"
  }
 },
 "nbformat": 4,
 "nbformat_minor": 5
}
